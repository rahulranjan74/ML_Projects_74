{
  "nbformat": 4,
  "nbformat_minor": 0,
  "metadata": {
    "colab": {
      "provenance": [],
      "authorship_tag": "ABX9TyOdOe+9KOQNN3SRB/XJ8I42",
      "include_colab_link": true
    },
    "kernelspec": {
      "name": "python3",
      "display_name": "Python 3"
    },
    "language_info": {
      "name": "python"
    }
  },
  "cells": [
    {
      "cell_type": "markdown",
      "metadata": {
        "id": "view-in-github",
        "colab_type": "text"
      },
      "source": [
        "<a href=\"https://colab.research.google.com/github/rahulranjan74/ML_Projects_74/blob/main/LinkedinDataset_Analysis.ipynb\" target=\"_parent\"><img src=\"https://colab.research.google.com/assets/colab-badge.svg\" alt=\"Open In Colab\"/></a>"
      ]
    },
    {
      "cell_type": "code",
      "source": [
        "#INTERNSHIP ASSIGNMENT SUBMISSION \n",
        "#RAHUL RANJAN (IIT KHARAGPUR)\n",
        "#email id - rahulranjanpikachu@gmail.com\n",
        "#Phone No - 8178993073\n",
        "\n",
        "\n",
        "import pandas as pd\n",
        "\n",
        "\n",
        "df = pd.read_csv('skills_data.csv')\n",
        "\n",
        "\n",
        "mask = df['job_titles'].str.lower().str.contains('software')\n",
        "\n",
        "\n",
        "df = df[mask]\n",
        "\n",
        "skills_df = df['skills'].str.split(',', expand=True)\n",
        "\n",
        "\n",
        "skills_series = skills_df.stack()\n",
        "\n",
        "\n",
        "top_skills = skills_series.value_counts().head(10)\n",
        "print(top_skills)\n",
        "\n"
      ],
      "metadata": {
        "colab": {
          "base_uri": "https://localhost:8080/"
        },
        "id": "5_bCzdljVCTq",
        "outputId": "ab6ea3ef-59df-4177-9977-fba437e42810"
      },
      "execution_count": 1,
      "outputs": [
        {
          "output_type": "stream",
          "name": "stdout",
          "text": [
            "java          147\n",
            "c++           135\n",
            "sql           120\n",
            "mysql         106\n",
            "html          102\n",
            "javascript    102\n",
            "c              96\n",
            "git            67\n",
            "python         67\n",
            "linux          67\n",
            "dtype: int64\n"
          ]
        }
      ]
    },
    {
      "cell_type": "code",
      "source": [
        "\n",
        "\n",
        "mask = df['skills'].str.lower().str.contains('python')\n",
        "\n",
        "\n",
        "df = df[mask]\n",
        "\n",
        "job_titles_df = df['job_titles'].str.split(',', expand=True)\n",
        "\n",
        "\n",
        "job_titles_series = job_titles_df.stack()\n",
        "\n",
        "\n",
        "top_job_title = job_titles_series.value_counts().head(1).index[0]\n",
        "print(\"The job title that requires 'Python' as the highly sought after skill is:\", top_job_title)\n"
      ],
      "metadata": {
        "colab": {
          "base_uri": "https://localhost:8080/"
        },
        "id": "uEKushSaZMG9",
        "outputId": "bb4d8092-ede5-4785-83a1-d00dbb26c25b"
      },
      "execution_count": 2,
      "outputs": [
        {
          "output_type": "stream",
          "name": "stdout",
          "text": [
            "The job title that requires 'Python' as the highly sought after skill is: software engineer]\n"
          ]
        }
      ]
    },
    {
      "cell_type": "code",
      "source": [
        "\n",
        "\n",
        "\n",
        "mask = df['skills'].str.lower().str.contains('react.js')\n",
        "\n",
        "\n",
        "df = df[mask]\n",
        "\n",
        "\n",
        "skills_df = df['skills'].str.split(',', expand=True)\n",
        "\n",
        "\n",
        "skills_series = skills_df.stack()\n",
        "\n",
        "\n",
        "top_skills = skills_series[skills_series != 'react.js'].value_counts().head(5)\n",
        "print(\"The 5 popular skills for a professional who knows 'react.js' are:\")\n",
        "print(top_skills)\n",
        "\n"
      ],
      "metadata": {
        "colab": {
          "base_uri": "https://localhost:8080/"
        },
        "id": "2vxjgvsUZlz8",
        "outputId": "03559489-72df-4111-9cc0-e76bdcf73e4e"
      },
      "execution_count": 3,
      "outputs": [
        {
          "output_type": "stream",
          "name": "stdout",
          "text": [
            "The other most popular skills for a professional who knows 'react.js' are:\n",
            "javascript                        24\n",
            "c++                               15\n",
            "html                              14\n",
            "git                               14\n",
            "python (programming language)]    13\n",
            "dtype: int64\n"
          ]
        }
      ]
    },
    {
      "cell_type": "code",
      "source": [
        "#Most of the job titles contained the word - 'software' in them which means software field is very demanded and sought after field in the market\n",
        "#some skills are highly specific to only particular job titles such as 'tensorflow' in job that require knowledge of ML, where as 'Django' appears in web development roles which require python\n",
        "#Some of the commonly and popular frameworks include - 'React.js', 'Node.js', 'Angular.js'\n",
        "#There wide variety of frameworks('React.js', 'Node.js', 'Angular.js'), programming languages ('Python, Java, C++' etc) and tools ('Git','AWS' etc.) required for software development\n",
        "#This dataset includes job titles and skills from variet of sectors and industries, indicating the importance of software devlopment in today's time.\n"
      ],
      "metadata": {
        "id": "Gb7dd_IyZ7nv"
      },
      "execution_count": null,
      "outputs": []
    }
  ]
}