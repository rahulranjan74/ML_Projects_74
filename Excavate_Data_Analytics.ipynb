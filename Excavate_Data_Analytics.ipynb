{
  "cells": [
    {
      "cell_type": "markdown",
      "metadata": {
        "id": "view-in-github",
        "colab_type": "text"
      },
      "source": [
        "<a href=\"https://colab.research.google.com/github/rahulranjan74/ML_Projects_74/blob/main/Excavate_Data_Analytics.ipynb\" target=\"_parent\"><img src=\"https://colab.research.google.com/assets/colab-badge.svg\" alt=\"Open In Colab\"/></a>"
      ]
    },
    {
      "cell_type": "code",
      "execution_count": null,
      "metadata": {
        "id": "-cQKWPd6sX5o"
      },
      "outputs": [],
      "source": [
        "import pandas as pd\n",
        "import numpy as np\n",
        "from sklearn.preprocessing import StandardScaler\n",
        "from sklearn.decomposition import PCA\n",
        "from sklearn.discriminant_analysis import LinearDiscriminantAnalysis as LDA\n",
        "from sklearn.svm import SVR\n",
        "from sklearn.ensemble import RandomForestRegressor\n",
        "from sklearn.linear_model import LinearRegression\n",
        "from sklearn.model_selection import train_test_split, GridSearchCV\n",
        "from sklearn.metrics import mean_squared_error, r2_score\n",
        "import matplotlib.pyplot as plt\n",
        "from sklearn.metrics import accuracy_score"
      ]
    },
    {
      "cell_type": "code",
      "execution_count": null,
      "metadata": {
        "colab": {
          "base_uri": "https://localhost:8080/",
          "height": 299
        },
        "id": "84dMn-w4s8cq",
        "outputId": "9e005b4c-c2a3-4959-9b0d-0d2f2a3a1788"
      },
      "outputs": [
        {
          "output_type": "execute_result",
          "data": {
            "text/plain": [
              "   number_of_elements  mean_atomic_mass  wtd_mean_atomic_mass  \\\n",
              "0                   4         88.944468             57.862692   \n",
              "1                   5         92.729214             58.518416   \n",
              "2                   4         88.944468             57.885242   \n",
              "3                   4         88.944468             57.873967   \n",
              "4                   4         88.944468             57.840143   \n",
              "\n",
              "   gmean_atomic_mass  wtd_gmean_atomic_mass  entropy_atomic_mass  \\\n",
              "0          66.361592              36.116612             1.181795   \n",
              "1          73.132787              36.396602             1.449309   \n",
              "2          66.361592              36.122509             1.181795   \n",
              "3          66.361592              36.119560             1.181795   \n",
              "4          66.361592              36.110716             1.181795   \n",
              "\n",
              "   wtd_entropy_atomic_mass  range_atomic_mass  wtd_range_atomic_mass  \\\n",
              "0                 1.062396          122.90607              31.794921   \n",
              "1                 1.057755          122.90607              36.161939   \n",
              "2                 0.975980          122.90607              35.741099   \n",
              "3                 1.022291          122.90607              33.768010   \n",
              "4                 1.129224          122.90607              27.848743   \n",
              "\n",
              "   std_atomic_mass  ...  wtd_mean_Valence  gmean_Valence  wtd_gmean_Valence  \\\n",
              "0        51.968828  ...          2.257143       2.213364           2.219783   \n",
              "1        47.094633  ...          2.257143       1.888175           2.210679   \n",
              "2        51.968828  ...          2.271429       2.213364           2.232679   \n",
              "3        51.968828  ...          2.264286       2.213364           2.226222   \n",
              "4        51.968828  ...          2.242857       2.213364           2.206963   \n",
              "\n",
              "   entropy_Valence  wtd_entropy_Valence  range_Valence  wtd_range_Valence  \\\n",
              "0         1.368922             1.066221              1           1.085714   \n",
              "1         1.557113             1.047221              2           1.128571   \n",
              "2         1.368922             1.029175              1           1.114286   \n",
              "3         1.368922             1.048834              1           1.100000   \n",
              "4         1.368922             1.096052              1           1.057143   \n",
              "\n",
              "   std_Valence  wtd_std_Valence  critical_temp  \n",
              "0     0.433013         0.437059           29.0  \n",
              "1     0.632456         0.468606           26.0  \n",
              "2     0.433013         0.444697           19.0  \n",
              "3     0.433013         0.440952           22.0  \n",
              "4     0.433013         0.428809           23.0  \n",
              "\n",
              "[5 rows x 82 columns]"
            ],
            "text/html": [
              "\n",
              "  <div id=\"df-0fd426ed-fcd2-4e94-8a12-4d512921fa7e\">\n",
              "    <div class=\"colab-df-container\">\n",
              "      <div>\n",
              "<style scoped>\n",
              "    .dataframe tbody tr th:only-of-type {\n",
              "        vertical-align: middle;\n",
              "    }\n",
              "\n",
              "    .dataframe tbody tr th {\n",
              "        vertical-align: top;\n",
              "    }\n",
              "\n",
              "    .dataframe thead th {\n",
              "        text-align: right;\n",
              "    }\n",
              "</style>\n",
              "<table border=\"1\" class=\"dataframe\">\n",
              "  <thead>\n",
              "    <tr style=\"text-align: right;\">\n",
              "      <th></th>\n",
              "      <th>number_of_elements</th>\n",
              "      <th>mean_atomic_mass</th>\n",
              "      <th>wtd_mean_atomic_mass</th>\n",
              "      <th>gmean_atomic_mass</th>\n",
              "      <th>wtd_gmean_atomic_mass</th>\n",
              "      <th>entropy_atomic_mass</th>\n",
              "      <th>wtd_entropy_atomic_mass</th>\n",
              "      <th>range_atomic_mass</th>\n",
              "      <th>wtd_range_atomic_mass</th>\n",
              "      <th>std_atomic_mass</th>\n",
              "      <th>...</th>\n",
              "      <th>wtd_mean_Valence</th>\n",
              "      <th>gmean_Valence</th>\n",
              "      <th>wtd_gmean_Valence</th>\n",
              "      <th>entropy_Valence</th>\n",
              "      <th>wtd_entropy_Valence</th>\n",
              "      <th>range_Valence</th>\n",
              "      <th>wtd_range_Valence</th>\n",
              "      <th>std_Valence</th>\n",
              "      <th>wtd_std_Valence</th>\n",
              "      <th>critical_temp</th>\n",
              "    </tr>\n",
              "  </thead>\n",
              "  <tbody>\n",
              "    <tr>\n",
              "      <th>0</th>\n",
              "      <td>4</td>\n",
              "      <td>88.944468</td>\n",
              "      <td>57.862692</td>\n",
              "      <td>66.361592</td>\n",
              "      <td>36.116612</td>\n",
              "      <td>1.181795</td>\n",
              "      <td>1.062396</td>\n",
              "      <td>122.90607</td>\n",
              "      <td>31.794921</td>\n",
              "      <td>51.968828</td>\n",
              "      <td>...</td>\n",
              "      <td>2.257143</td>\n",
              "      <td>2.213364</td>\n",
              "      <td>2.219783</td>\n",
              "      <td>1.368922</td>\n",
              "      <td>1.066221</td>\n",
              "      <td>1</td>\n",
              "      <td>1.085714</td>\n",
              "      <td>0.433013</td>\n",
              "      <td>0.437059</td>\n",
              "      <td>29.0</td>\n",
              "    </tr>\n",
              "    <tr>\n",
              "      <th>1</th>\n",
              "      <td>5</td>\n",
              "      <td>92.729214</td>\n",
              "      <td>58.518416</td>\n",
              "      <td>73.132787</td>\n",
              "      <td>36.396602</td>\n",
              "      <td>1.449309</td>\n",
              "      <td>1.057755</td>\n",
              "      <td>122.90607</td>\n",
              "      <td>36.161939</td>\n",
              "      <td>47.094633</td>\n",
              "      <td>...</td>\n",
              "      <td>2.257143</td>\n",
              "      <td>1.888175</td>\n",
              "      <td>2.210679</td>\n",
              "      <td>1.557113</td>\n",
              "      <td>1.047221</td>\n",
              "      <td>2</td>\n",
              "      <td>1.128571</td>\n",
              "      <td>0.632456</td>\n",
              "      <td>0.468606</td>\n",
              "      <td>26.0</td>\n",
              "    </tr>\n",
              "    <tr>\n",
              "      <th>2</th>\n",
              "      <td>4</td>\n",
              "      <td>88.944468</td>\n",
              "      <td>57.885242</td>\n",
              "      <td>66.361592</td>\n",
              "      <td>36.122509</td>\n",
              "      <td>1.181795</td>\n",
              "      <td>0.975980</td>\n",
              "      <td>122.90607</td>\n",
              "      <td>35.741099</td>\n",
              "      <td>51.968828</td>\n",
              "      <td>...</td>\n",
              "      <td>2.271429</td>\n",
              "      <td>2.213364</td>\n",
              "      <td>2.232679</td>\n",
              "      <td>1.368922</td>\n",
              "      <td>1.029175</td>\n",
              "      <td>1</td>\n",
              "      <td>1.114286</td>\n",
              "      <td>0.433013</td>\n",
              "      <td>0.444697</td>\n",
              "      <td>19.0</td>\n",
              "    </tr>\n",
              "    <tr>\n",
              "      <th>3</th>\n",
              "      <td>4</td>\n",
              "      <td>88.944468</td>\n",
              "      <td>57.873967</td>\n",
              "      <td>66.361592</td>\n",
              "      <td>36.119560</td>\n",
              "      <td>1.181795</td>\n",
              "      <td>1.022291</td>\n",
              "      <td>122.90607</td>\n",
              "      <td>33.768010</td>\n",
              "      <td>51.968828</td>\n",
              "      <td>...</td>\n",
              "      <td>2.264286</td>\n",
              "      <td>2.213364</td>\n",
              "      <td>2.226222</td>\n",
              "      <td>1.368922</td>\n",
              "      <td>1.048834</td>\n",
              "      <td>1</td>\n",
              "      <td>1.100000</td>\n",
              "      <td>0.433013</td>\n",
              "      <td>0.440952</td>\n",
              "      <td>22.0</td>\n",
              "    </tr>\n",
              "    <tr>\n",
              "      <th>4</th>\n",
              "      <td>4</td>\n",
              "      <td>88.944468</td>\n",
              "      <td>57.840143</td>\n",
              "      <td>66.361592</td>\n",
              "      <td>36.110716</td>\n",
              "      <td>1.181795</td>\n",
              "      <td>1.129224</td>\n",
              "      <td>122.90607</td>\n",
              "      <td>27.848743</td>\n",
              "      <td>51.968828</td>\n",
              "      <td>...</td>\n",
              "      <td>2.242857</td>\n",
              "      <td>2.213364</td>\n",
              "      <td>2.206963</td>\n",
              "      <td>1.368922</td>\n",
              "      <td>1.096052</td>\n",
              "      <td>1</td>\n",
              "      <td>1.057143</td>\n",
              "      <td>0.433013</td>\n",
              "      <td>0.428809</td>\n",
              "      <td>23.0</td>\n",
              "    </tr>\n",
              "  </tbody>\n",
              "</table>\n",
              "<p>5 rows × 82 columns</p>\n",
              "</div>\n",
              "      <button class=\"colab-df-convert\" onclick=\"convertToInteractive('df-0fd426ed-fcd2-4e94-8a12-4d512921fa7e')\"\n",
              "              title=\"Convert this dataframe to an interactive table.\"\n",
              "              style=\"display:none;\">\n",
              "        \n",
              "  <svg xmlns=\"http://www.w3.org/2000/svg\" height=\"24px\"viewBox=\"0 0 24 24\"\n",
              "       width=\"24px\">\n",
              "    <path d=\"M0 0h24v24H0V0z\" fill=\"none\"/>\n",
              "    <path d=\"M18.56 5.44l.94 2.06.94-2.06 2.06-.94-2.06-.94-.94-2.06-.94 2.06-2.06.94zm-11 1L8.5 8.5l.94-2.06 2.06-.94-2.06-.94L8.5 2.5l-.94 2.06-2.06.94zm10 10l.94 2.06.94-2.06 2.06-.94-2.06-.94-.94-2.06-.94 2.06-2.06.94z\"/><path d=\"M17.41 7.96l-1.37-1.37c-.4-.4-.92-.59-1.43-.59-.52 0-1.04.2-1.43.59L10.3 9.45l-7.72 7.72c-.78.78-.78 2.05 0 2.83L4 21.41c.39.39.9.59 1.41.59.51 0 1.02-.2 1.41-.59l7.78-7.78 2.81-2.81c.8-.78.8-2.07 0-2.86zM5.41 20L4 18.59l7.72-7.72 1.47 1.35L5.41 20z\"/>\n",
              "  </svg>\n",
              "      </button>\n",
              "      \n",
              "  <style>\n",
              "    .colab-df-container {\n",
              "      display:flex;\n",
              "      flex-wrap:wrap;\n",
              "      gap: 12px;\n",
              "    }\n",
              "\n",
              "    .colab-df-convert {\n",
              "      background-color: #E8F0FE;\n",
              "      border: none;\n",
              "      border-radius: 50%;\n",
              "      cursor: pointer;\n",
              "      display: none;\n",
              "      fill: #1967D2;\n",
              "      height: 32px;\n",
              "      padding: 0 0 0 0;\n",
              "      width: 32px;\n",
              "    }\n",
              "\n",
              "    .colab-df-convert:hover {\n",
              "      background-color: #E2EBFA;\n",
              "      box-shadow: 0px 1px 2px rgba(60, 64, 67, 0.3), 0px 1px 3px 1px rgba(60, 64, 67, 0.15);\n",
              "      fill: #174EA6;\n",
              "    }\n",
              "\n",
              "    [theme=dark] .colab-df-convert {\n",
              "      background-color: #3B4455;\n",
              "      fill: #D2E3FC;\n",
              "    }\n",
              "\n",
              "    [theme=dark] .colab-df-convert:hover {\n",
              "      background-color: #434B5C;\n",
              "      box-shadow: 0px 1px 3px 1px rgba(0, 0, 0, 0.15);\n",
              "      filter: drop-shadow(0px 1px 2px rgba(0, 0, 0, 0.3));\n",
              "      fill: #FFFFFF;\n",
              "    }\n",
              "  </style>\n",
              "\n",
              "      <script>\n",
              "        const buttonEl =\n",
              "          document.querySelector('#df-0fd426ed-fcd2-4e94-8a12-4d512921fa7e button.colab-df-convert');\n",
              "        buttonEl.style.display =\n",
              "          google.colab.kernel.accessAllowed ? 'block' : 'none';\n",
              "\n",
              "        async function convertToInteractive(key) {\n",
              "          const element = document.querySelector('#df-0fd426ed-fcd2-4e94-8a12-4d512921fa7e');\n",
              "          const dataTable =\n",
              "            await google.colab.kernel.invokeFunction('convertToInteractive',\n",
              "                                                     [key], {});\n",
              "          if (!dataTable) return;\n",
              "\n",
              "          const docLinkHtml = 'Like what you see? Visit the ' +\n",
              "            '<a target=\"_blank\" href=https://colab.research.google.com/notebooks/data_table.ipynb>data table notebook</a>'\n",
              "            + ' to learn more about interactive tables.';\n",
              "          element.innerHTML = '';\n",
              "          dataTable['output_type'] = 'display_data';\n",
              "          await google.colab.output.renderOutput(dataTable, element);\n",
              "          const docLink = document.createElement('div');\n",
              "          docLink.innerHTML = docLinkHtml;\n",
              "          element.appendChild(docLink);\n",
              "        }\n",
              "      </script>\n",
              "    </div>\n",
              "  </div>\n",
              "  "
            ]
          },
          "metadata": {},
          "execution_count": 2
        }
      ],
      "source": [
        "df = pd.read_csv('superconductivity_train_data.csv')\n",
        "df.head()"
      ]
    },
    {
      "cell_type": "code",
      "execution_count": null,
      "metadata": {
        "colab": {
          "base_uri": "https://localhost:8080/"
        },
        "id": "b6NXOzbPtAns",
        "outputId": "ad9aac53-527e-4942-f8fe-06fcef3502f7"
      },
      "outputs": [
        {
          "output_type": "stream",
          "name": "stdout",
          "text": [
            "['wtd_std_ThermalConductivity', 'range_ThermalConductivity', 'range_atomic_radius', 'std_ThermalConductivity', 'wtd_entropy_atomic_mass', 'wtd_entropy_atomic_radius', 'number_of_elements', 'range_fie', 'wtd_std_atomic_radius', 'entropy_Valence', 'wtd_entropy_Valence', 'wtd_std_fie', 'entropy_fie', 'wtd_entropy_FusionHeat', 'std_atomic_radius', 'entropy_atomic_radius', 'entropy_FusionHeat', 'entropy_atomic_mass', 'std_fie', 'range_atomic_mass', 'wtd_range_ThermalConductivity', 'entropy_Density', 'entropy_ElectronAffinity', 'wtd_entropy_Density', 'wtd_mean_fie']\n"
          ]
        }
      ],
      "source": [
        "corr_matrix = df.corr()\n",
        "corr_matrix = corr_matrix['critical_temp'].sort_values(ascending=False)\n",
        "df=df.dropna()\n",
        "# Select the top variables with the strongest correlation with Tc\n",
        "top_vars = corr_matrix[1:26].index.tolist()\n",
        "X = df[top_vars]\n",
        "y = df['critical_temp']\n",
        "y=y.astype('int')\n",
        "print(top_vars)"
      ]
    },
    {
      "cell_type": "code",
      "execution_count": null,
      "metadata": {
        "id": "Xrm_T5c-tIUs"
      },
      "outputs": [],
      "source": [
        "# Scale the features\n",
        "scaler = StandardScaler()\n",
        "X_scaled = scaler.fit_transform(X)\n",
        "\n",
        "# Split the dataset into training and testing sets\n",
        "X_train, X_test, y_train, y_test = train_test_split(X_scaled, y, test_size=0.2, random_state=42)"
      ]
    },
    {
      "cell_type": "code",
      "execution_count": null,
      "metadata": {
        "colab": {
          "base_uri": "https://localhost:8080/"
        },
        "id": "p8oKHL19tLmj",
        "outputId": "b22bf7e4-368d-425b-ae17-da63f01fd4db"
      },
      "outputs": [
        {
          "output_type": "stream",
          "name": "stdout",
          "text": [
            "Linear Regression R2 score: 0.674\n",
            "Random Forest R2 score: 0.927\n",
            "SVR R2 score: 0.797\n",
            "\n",
            "Best model: RandomForestRegressor\n",
            "Best hyperparameters: {'bootstrap': True, 'ccp_alpha': 0.0, 'criterion': 'squared_error', 'max_depth': None, 'max_features': 1.0, 'max_leaf_nodes': None, 'max_samples': None, 'min_impurity_decrease': 0.0, 'min_samples_leaf': 1, 'min_samples_split': 2, 'min_weight_fraction_leaf': 0.0, 'n_estimators': 200, 'n_jobs': None, 'oob_score': False, 'random_state': 42, 'verbose': 0, 'warm_start': False}\n"
          ]
        }
      ],
      "source": [
        "models = {\n",
        "    'Linear Regression': LinearRegression(),\n",
        "    'Random Forest': RandomForestRegressor(random_state=42),\n",
        "    'SVR': SVR()\n",
        "}\n",
        "\n",
        "# Define the hyperparameters to be tuned for each model\n",
        "params = {\n",
        "    'Linear Regression': {},\n",
        "    'Random Forest': {'n_estimators': [10, 50, 100, 200], 'max_depth': [None, 10, 20, 30]},\n",
        "    'SVR': {'kernel': ['linear', 'poly', 'rbf'], 'C': [0.1, 1, 10]}\n",
        "}\n",
        "\n",
        "# Train and evaluate each model using GridSearchCV\n",
        "best_model = None\n",
        "best_score = -np.inf\n",
        "best_predictions = None\n",
        "\n",
        "for model_name, model in models.items():\n",
        "    grid_search = GridSearchCV(model, params[model_name], cv=5, scoring='neg_mean_squared_error', n_jobs=-1)\n",
        "    grid_search.fit(X_train, y_train)\n",
        "    \n",
        "    y_pred = grid_search.predict(X_test)\n",
        "    score = r2_score(y_test, y_pred)\n",
        "    print(f\"{model_name} R2 score: {score:.3f}\")\n",
        "    \n",
        "    if score > best_score:\n",
        "        best_score = score\n",
        "        best_model = grid_search.best_estimator_\n",
        "        best_predictions = y_pred\n",
        "\n",
        "print(\"\\nBest model:\", type(best_model).__name__)\n",
        "print(\"Best hyperparameters:\", best_model.get_params())"
      ]
    },
    {
      "cell_type": "code",
      "source": [
        "plt.scatter(y_test, best_predictions)\n",
        "plt.xlabel(\"Actual Tc values\")\n",
        "plt.ylabel(\"Predicted Tc values\")\n",
        "plt.title(\"Predicted vs. actual Tc values using the best model\")\n",
        "plt.show()"
      ],
      "metadata": {
        "colab": {
          "base_uri": "https://localhost:8080/"
        },
        "id": "Z972b35wuCMt",
        "outputId": "b7950bf8-c961-4a35-920c-e7c968aa5931"
      },
      "execution_count": null,
      "outputs": [
        {
          "output_type": "display_data",
          "data": {
            "text/plain": [
              "<Figure size 640x480 with 1 Axes>"
            ],
            "image/png": "[encoded data removed]"
          },
          "metadata": {}
        }
      ]
    },
    {
      "cell_type": "code",
      "source": [
        "mse = mean_squared_error(y_test, best_predictions)\n",
        "print(\"MSE using the best model:\", mse)"
      ],
      "metadata": {
        "colab": {
          "base_uri": "https://localhost:8080/"
        },
        "id": "piMegqmRuHpJ",
        "outputId": "c14f1eb9-d76f-496e-b874-dd60aa74919e"
      },
      "execution_count": null,
      "outputs": [
        {
          "output_type": "stream",
          "name": "stdout",
          "text": [
            "MSE using the best model: 84.42479854168914\n"
          ]
        }
      ]
    },
    {
      "cell_type": "code",
      "source": [
        "r2_score = best_model.score(X_test, y_test)\n",
        "print(\"R2 score of the best model:\", r2_score)"
      ],
      "metadata": {
        "colab": {
          "base_uri": "https://localhost:8080/"
        },
        "id": "n8Q1DQRLuTdk",
        "outputId": "61a8beba-f1ca-40a9-ba6c-c984efc14eb1"
      },
      "execution_count": null,
      "outputs": [
        {
          "output_type": "stream",
          "name": "stdout",
          "text": [
            "R2 score of the best model: 0.9270075935812352\n"
          ]
        }
      ]
    }
  ],
  "metadata": {
    "colab": {
      "provenance": [],
      "include_colab_link": true
    },
    "kernelspec": {
      "display_name": "Python 3",
      "name": "python3"
    },
    "language_info": {
      "name": "python"
    }
  },
  "nbformat": 4,
  "nbformat_minor": 0
}